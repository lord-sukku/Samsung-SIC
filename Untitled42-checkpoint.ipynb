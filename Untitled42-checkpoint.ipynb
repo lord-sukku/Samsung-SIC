{
 "cells": [
  {
   "cell_type": "code",
   "execution_count": 5,
   "id": "462b68be",
   "metadata": {},
   "outputs": [
    {
     "name": "stdout",
     "output_type": "stream",
     "text": [
      "Annotations created successfully.\n"
     ]
    }
   ],
   "source": [
    "import cv2\n",
    "import xml.etree.ElementTree as ET\n",
    "import os\n",
    "\n",
    "# Define your class labels\n",
    "class_labels = [\"drusen\", \"background\"]\n",
    "\n",
    "# Function to create annotations for a single image\n",
    "def create_annotation(image_path, annotation_path, bboxes):\n",
    "    # Load the image\n",
    "    img = cv2.imread(image_path)\n",
    "    height, width, _ = img.shape\n",
    "    annotated_img = img.copy()\n",
    "\n",
    "    # Create an XML annotation file\n",
    "    annotation = ET.Element(\"annotation\")\n",
    "    \n",
    "    # Add image information\n",
    "    ET.SubElement(annotation, \"folder\").text = \"images\"\n",
    "    ET.SubElement(annotation, \"filename\").text = os.path.basename(image_path)\n",
    "    ET.SubElement(annotation, \"path\").text = image_path\n",
    "\n",
    "    size = ET.SubElement(annotation, \"size\")\n",
    "    ET.SubElement(size, \"width\").text = str(width)\n",
    "    ET.SubElement(size, \"height\").text = str(height)\n",
    "    ET.SubElement(size, \"depth\").text = \"3\"  # Assuming RGB images\n",
    "\n",
    "    for bbox in bboxes:\n",
    "        x, y, w, h = bbox\n",
    "\n",
    "        # Add object information\n",
    "        obj = ET.SubElement(annotation, \"object\")\n",
    "        ET.SubElement(obj, \"name\").text = class_labels[0]  # Use class 0 (drusen)\n",
    "        ET.SubElement(obj, \"pose\").text = \"Unspecified\"\n",
    "        ET.SubElement(obj, \"truncated\").text = \"0\"\n",
    "        ET.SubElement(obj, \"difficult\").text = \"0\"\n",
    "\n",
    "        bbox_elem = ET.SubElement(obj, \"bndbox\")\n",
    "        ET.SubElement(bbox_elem, \"xmin\").text = str(x)\n",
    "        ET.SubElement(bbox_elem, \"ymin\").text = str(y)\n",
    "        ET.SubElement(bbox_elem, \"xmax\").text = str(x + w)\n",
    "        ET.SubElement(bbox_elem, \"ymax\").text = str(y + h)\n",
    "\n",
    "    # Save the XML annotation file\n",
    "    tree = ET.ElementTree(annotation)\n",
    "    tree.write(annotation_path)\n",
    "\n",
    "# Define the list of images and their corresponding bounding boxes\n",
    "images = [\"C:/Users/Sukku/Desktop/octsamsung/DRUSEN/drusen_test_1003.jpg\"]\n",
    "annotations = [\"image1.xml\"]\n",
    "bounding_boxes = [\n",
    "    [(100, 150, 50, 30)],  # Bounding box for drusen in image1.jpg\n",
    "    [(200, 180, 60, 40)],  # Bounding box for drusen in image2.jpg\n",
    "    [(50, 100, 30, 20), (180, 220, 45, 25)]  # Bounding boxes for drusen in image3.jpg\n",
    "]\n",
    "\n",
    "# Loop through images and create annotations\n",
    "for i in range(len(images)):\n",
    "    create_annotation(images[i], annotations[i], bounding_boxes[i])\n",
    "\n",
    "print(\"Annotations created successfully.\")\n"
   ]
  },
  {
   "cell_type": "code",
   "execution_count": 6,
   "id": "7ab3800a",
   "metadata": {},
   "outputs": [
    {
     "data": {
      "text/plain": [
       "['image1.xml']"
      ]
     },
     "execution_count": 6,
     "metadata": {},
     "output_type": "execute_result"
    }
   ],
   "source": [
    "annotations"
   ]
  },
  {
   "cell_type": "code",
   "execution_count": 7,
   "id": "4ddd0fbe",
   "metadata": {},
   "outputs": [
    {
     "data": {
      "text/plain": [
       "['C:/Users/Sukku/Desktop/octsamsung/DRUSEN/drusen_test_1003.jpg']"
      ]
     },
     "execution_count": 7,
     "metadata": {},
     "output_type": "execute_result"
    }
   ],
   "source": [
    "images"
   ]
  },
  {
   "cell_type": "code",
   "execution_count": 18,
   "id": "ce48b1eb",
   "metadata": {},
   "outputs": [
    {
     "name": "stdout",
     "output_type": "stream",
     "text": [
      "Annotated image saved at C:/Users/Sukku/Desktop/octsamsung/DRUSEN/drusen_test_1006_annotated.jpg\n",
      "Annotations and annotated images created successfully.\n"
     ]
    }
   ],
   "source": [
    "import cv2\n",
    "import xml.etree.ElementTree as ET\n",
    "import os\n",
    "\n",
    "# Define your class labels\n",
    "class_labels = [\"drusen\", \"background\"]\n",
    "\n",
    "# Function to create annotations for a single image\n",
    "def create_annotation(image_path, annotation_path, bboxes):\n",
    "    # Load the image\n",
    "    img = cv2.imread(image_path)\n",
    "    height, width, _ = img.shape\n",
    "\n",
    "    # Create a copy of the image for visualization\n",
    "    annotated_img = img.copy()\n",
    "\n",
    "    for bbox in bboxes:\n",
    "        x, y, w, h = bbox\n",
    "\n",
    "        # Draw bounding box on the image\n",
    "        cv2.rectangle(annotated_img, (x, y), (x + w, y + h), (0, 255, 0), 2)  # Green rectangle\n",
    "\n",
    "    # Save the annotated image\n",
    "    annotated_image_path = image_path.replace(\".jpg\", \"_annotated.jpg\")\n",
    "    cv2.imwrite(annotated_image_path, annotated_img)\n",
    "    \n",
    "    # Create an XML annotation file\n",
    "    annotation = ET.Element(\"annotation\")\n",
    "    \n",
    "    # Add image information\n",
    "    ET.SubElement(annotation, \"folder\").text = \"images\"\n",
    "    ET.SubElement(annotation, \"filename\").text = os.path.basename(image_path)\n",
    "    ET.SubElement(annotation, \"path\").text = image_path\n",
    "\n",
    "    size = ET.SubElement(annotation, \"size\")\n",
    "    ET.SubElement(size, \"width\").text = str(width)\n",
    "    ET.SubElement(size, \"height\").text = str(height)\n",
    "    ET.SubElement(size, \"depth\").text = \"3\"  # Assuming RGB images\n",
    "\n",
    "    for bbox in bboxes:\n",
    "        x, y, w, h = bbox\n",
    "\n",
    "        # Add object information\n",
    "        obj = ET.SubElement(annotation, \"object\")\n",
    "        ET.SubElement(obj, \"name\").text = class_labels[0]  # Use class 0 (drusen)\n",
    "        ET.SubElement(obj, \"pose\").text = \"Unspecified\"\n",
    "        ET.SubElement(obj, \"truncated\").text = \"0\"\n",
    "        ET.SubElement(obj, \"difficult\").text = \"0\"\n",
    "\n",
    "        bbox_elem = ET.SubElement(obj, \"bndbox\")\n",
    "        ET.SubElement(bbox_elem, \"xmin\").text = str(x)\n",
    "        ET.SubElement(bbox_elem, \"ymin\").text = str(y)\n",
    "        ET.SubElement(bbox_elem, \"xmax\").text = str(x + w)\n",
    "        ET.SubElement(bbox_elem, \"ymax\").text = str(y + h)\n",
    "\n",
    "    # Save the XML annotation file\n",
    "    tree = ET.ElementTree(annotation)\n",
    "    tree.write(annotation_path)\n",
    "\n",
    "    # Return the path to the annotated image\n",
    "    return annotated_image_path\n",
    "\n",
    "# Define the list of images and their corresponding bounding boxes\n",
    "images = [\"C:/Users/Sukku/Desktop/octsamsung/DRUSEN/drusen_test_1006.jpg\"]\n",
    "annotations = [\"image2.xml\"]\n",
    "bounding_boxes = [\n",
    "    [(150, 150, 250, 150)]  # Bounding box for drusen in image1.jpg\n",
    "#     [(200, 180, 60, 40)],  # Bounding box for drusen in image2.jpg\n",
    "#     [(50, 100, 30, 20), (180, 220, 45, 25)]  # Bounding boxes for drusen in image3.jpg\n",
    "]\n",
    "\n",
    "# Create a directory to store annotated images\n",
    "output_dir = \"C:/Users/Sukku/Desktop/annotation\"\n",
    "os.makedirs(output_dir, exist_ok=True)\n",
    "\n",
    "# Loop through images and create annotations\n",
    "for i in range(len(images)):\n",
    "    annotated_image_path = create_annotation(images[i], os.path.join(\"C:/Users/Sukku/Desktop/annotation\", annotations[i]), bounding_boxes[i])\n",
    "    print(f\"Annotated image saved at {annotated_image_path}\")\n",
    "\n",
    "print(\"Annotations and annotated images created successfully.\")\n"
   ]
  },
  {
   "cell_type": "code",
   "execution_count": null,
   "id": "2fa27d88",
   "metadata": {},
   "outputs": [],
   "source": []
  }
 ],
 "metadata": {
  "kernelspec": {
   "display_name": "Python 3 (ipykernel)",
   "language": "python",
   "name": "python3"
  },
  "language_info": {
   "codemirror_mode": {
    "name": "ipython",
    "version": 3
   },
   "file_extension": ".py",
   "mimetype": "text/x-python",
   "name": "python",
   "nbconvert_exporter": "python",
   "pygments_lexer": "ipython3",
   "version": "3.11.4"
  }
 },
 "nbformat": 4,
 "nbformat_minor": 5
}
